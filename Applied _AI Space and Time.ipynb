{
 "cells": [
  {
   "cell_type": "code",
   "execution_count": 1,
   "metadata": {},
   "outputs": [],
   "source": [
    "import pandas as pd\n",
    "import numpy as np\n",
    "import matplotlib.pyplot as plt"
   ]
  },
  {
   "cell_type": "code",
   "execution_count": 3,
   "metadata": {},
   "outputs": [
    {
     "data": {
      "text/plain": [
       "'What it needs is that the item should be sorted, then it divided by half checking the requirement and hence\\n   it goes on until it finds the desired output'"
      ]
     },
     "execution_count": 3,
     "metadata": {},
     "output_type": "execute_result"
    }
   ],
   "source": [
    "'''For time computation, one takes the highest power of \"n\" (length of the item) as the time taken to compute the \n",
    "   time required to calculate the process'''\n",
    "\n",
    "\n",
    "'''To reduce the computation of n length item (let's say the computation length is of max power of n itself),\n",
    "    concept of log is used to redude the computation drastically'''\n",
    "\n",
    "'''Usually if n is of length 1024, then if it is computed by log, then it will reduce to mere 10'''\n",
    "'''What it needs is that the item should be sorted, then it divided by half checking the requirement and hence\n",
    "   it goes on until it finds the desired output'''\n"
   ]
  },
  {
   "cell_type": "code",
   "execution_count": 4,
   "metadata": {},
   "outputs": [
    {
     "data": {
      "text/plain": [
       "'What ussually happens is that it decreases the time but in effect it increases the space consumption. \\n    So, there is a trade off between the time and space. But since hardwares are easily available, the space \\n    is not an issue.'"
      ]
     },
     "execution_count": 4,
     "metadata": {},
     "output_type": "execute_result"
    }
   ],
   "source": [
    "'''What ussually happens is that it decreases the time but in effect it increases the space consumption. \n",
    "    So, there is a trade off between the time and space. But since hardwares are easily available, the space \n",
    "    is not an issue.'''"
   ]
  },
  {
   "cell_type": "raw",
   "metadata": {},
   "source": []
  },
  {
   "cell_type": "code",
   "execution_count": 39,
   "metadata": {},
   "outputs": [
    {
     "name": "stdout",
     "output_type": "stream",
     "text": [
      "[0, 1, 2, 3, 4, 5, 6, 7, 8, 9, 10, 11, 12, 13, 14, 15, 16, 17, 18, 19, 20, 21, 22, 23, 24, 25, 26, 27, 28, 29, 30, 31, 32, 33, 34, 35, 36, 37, 38, 39]\n"
     ]
    }
   ],
   "source": [
    "import random\n",
    "\n",
    "lst1 = list(range (40))\n",
    "random.shuffle (lst1)\n",
    "\n",
    "lst2 = list (range (60))\n",
    "random.shuffle (lst2)\n",
    "\n",
    "final = []\n",
    "\n",
    "dct = {}\n",
    "for items in lst1:\n",
    "    dct [items] = 1\n",
    "\n",
    "for item in lst2:\n",
    "    if dct.get (item) != None:\n",
    "        final.append (item)\n",
    "\n",
    "print (list(set(final)))"
   ]
  },
  {
   "cell_type": "code",
   "execution_count": null,
   "metadata": {},
   "outputs": [],
   "source": []
  },
  {
   "cell_type": "code",
   "execution_count": null,
   "metadata": {},
   "outputs": [],
   "source": []
  },
  {
   "cell_type": "code",
   "execution_count": null,
   "metadata": {},
   "outputs": [],
   "source": []
  },
  {
   "cell_type": "code",
   "execution_count": null,
   "metadata": {},
   "outputs": [],
   "source": []
  }
 ],
 "metadata": {
  "kernelspec": {
   "display_name": "Python 3",
   "language": "python",
   "name": "python3"
  },
  "language_info": {
   "codemirror_mode": {
    "name": "ipython",
    "version": 3
   },
   "file_extension": ".py",
   "mimetype": "text/x-python",
   "name": "python",
   "nbconvert_exporter": "python",
   "pygments_lexer": "ipython3",
   "version": "3.7.5"
  }
 },
 "nbformat": 4,
 "nbformat_minor": 2
}
